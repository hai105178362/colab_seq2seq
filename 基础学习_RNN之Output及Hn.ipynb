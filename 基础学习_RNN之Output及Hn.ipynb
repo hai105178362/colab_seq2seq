{
  "nbformat": 4,
  "nbformat_minor": 0,
  "metadata": {
    "colab": {
      "name": "基础学习 RNN之Output及Hn.ipynb",
      "provenance": [],
      "collapsed_sections": [],
      "authorship_tag": "ABX9TyN0uFuAc8AdfBftA9Y3Gzkw",
      "include_colab_link": true
    },
    "kernelspec": {
      "name": "python3",
      "display_name": "Python 3"
    }
  },
  "cells": [
    {
      "cell_type": "markdown",
      "metadata": {
        "id": "view-in-github",
        "colab_type": "text"
      },
      "source": [
        "<a href=\"https://colab.research.google.com/github/hai105178362/colab_seq2seq/blob/master/%E5%9F%BA%E7%A1%80%E5%AD%A6%E4%B9%A0_RNN%E4%B9%8BOutput%E5%8F%8AHn.ipynb\" target=\"_parent\"><img src=\"https://colab.research.google.com/assets/colab-badge.svg\" alt=\"Open In Colab\"/></a>"
      ]
    },
    {
      "cell_type": "markdown",
      "metadata": {
        "id": "q5ssxcCvpF97",
        "colab_type": "text"
      },
      "source": [
        "​\tRNN计算公式如图\n",
        "\n",
        "\n",
        " ![image.png](data:image/png;base64,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)"
      ]
    },
    {
      "cell_type": "markdown",
      "metadata": {
        "id": "iBKNF6WU1XwT",
        "colab_type": "text"
      },
      "source": [
        "**示例1：输入序列长度为2，隐含层为1**"
      ]
    },
    {
      "cell_type": "code",
      "metadata": {
        "id": "vy3jp5ZrkvH6",
        "colab_type": "code",
        "colab": {
          "base_uri": "https://localhost:8080/",
          "height": 215
        },
        "outputId": "bb12bcb4-8a35-4875-921c-2d5c75af97be"
      },
      "source": [
        "from torch import nn\n",
        "import torch\n",
        "import numpy as np\n",
        "\n",
        "#[input_size, hidden_size, num_layers]\n",
        "rnn = nn.RNN(10, 10, 1)\n",
        "\n",
        "#[size,batch,dim]\n",
        "inputR = torch.randn(2, 1, 10)\n",
        "\n",
        "#[size,batch,dim]\n",
        "h0 = torch.randn(1, 1, 10)\n",
        "\n",
        "output, hn = rnn(inputR, h0)\n",
        "\n",
        "print(\"output\",output)\n",
        "print(\"hn\",hn)\n",
        "for para  in list(rnn.named_parameters()):\n",
        "   print(para[0],para[1].shape)"
      ],
      "execution_count": 145,
      "outputs": [
        {
          "output_type": "stream",
          "text": [
            "output tensor([[[ 0.0365,  0.1667, -0.7589, -0.7784, -0.8159, -0.1000,  0.2876,\n",
            "          -0.2938, -0.0675, -0.3905]],\n",
            "\n",
            "        [[ 0.6679,  0.8936,  0.1619,  0.3658,  0.4864,  0.0280, -0.4142,\n",
            "           0.5107,  0.2790,  0.6179]]], grad_fn=<StackBackward>)\n",
            "hn tensor([[[ 0.6679,  0.8936,  0.1619,  0.3658,  0.4864,  0.0280, -0.4142,\n",
            "           0.5107,  0.2790,  0.6179]]], grad_fn=<StackBackward>)\n",
            "weight_ih_l0 torch.Size([10, 10])\n",
            "weight_hh_l0 torch.Size([10, 10])\n",
            "bias_ih_l0 torch.Size([10])\n",
            "bias_hh_l0 torch.Size([10])\n"
          ],
          "name": "stdout"
        }
      ]
    },
    {
      "cell_type": "markdown",
      "metadata": {
        "id": "cKTJ0VbBmRCP",
        "colab_type": "text"
      },
      "source": [
        "output1"
      ]
    },
    {
      "cell_type": "code",
      "metadata": {
        "id": "JsARn5VvmNiN",
        "colab_type": "code",
        "colab": {
          "base_uri": "https://localhost:8080/",
          "height": 197
        },
        "outputId": "fbe3f1f7-5582-4b8e-a9be-c23e884f6193"
      },
      "source": [
        "ih =  rnn.weight_ih_l0.data.mm(inputR[0].squeeze().view(10,1)) + rnn.bias_ih_l0.data.view(10,1)\n",
        "\n",
        "hh = rnn.weight_hh_l0.data.mm(h0[0].squeeze().view(10, 1)) + rnn.bias_hh_l0.data.view(10,1)\n",
        "\n",
        "temp = torch.tanh(ih+hh)\n",
        "temp"
      ],
      "execution_count": 146,
      "outputs": [
        {
          "output_type": "execute_result",
          "data": {
            "text/plain": [
              "tensor([[ 0.0365],\n",
              "        [ 0.1667],\n",
              "        [-0.7589],\n",
              "        [-0.7784],\n",
              "        [-0.8159],\n",
              "        [-0.1000],\n",
              "        [ 0.2876],\n",
              "        [-0.2938],\n",
              "        [-0.0675],\n",
              "        [-0.3905]])"
            ]
          },
          "metadata": {
            "tags": []
          },
          "execution_count": 146
        }
      ]
    },
    {
      "cell_type": "markdown",
      "metadata": {
        "id": "MGp-K9pAmWH6",
        "colab_type": "text"
      },
      "source": [
        "output2"
      ]
    },
    {
      "cell_type": "code",
      "metadata": {
        "id": "wfesRAxMmVW5",
        "colab_type": "code",
        "colab": {
          "base_uri": "https://localhost:8080/",
          "height": 197
        },
        "outputId": "3fd1ff2b-0a04-43be-fe80-6f5deb3cee0e"
      },
      "source": [
        "ih =  rnn.weight_ih_l0.data.mm(inputR[1].squeeze().view(10,1)) + rnn.bias_ih_l0.data.view(10,1)\n",
        "\n",
        "hh = rnn.weight_hh_l0.data.mm(temp) + rnn.bias_hh_l0.data.view(10,1)\n",
        "\n",
        "temp = torch.tanh(ih+hh)\n",
        "temp"
      ],
      "execution_count": 147,
      "outputs": [
        {
          "output_type": "execute_result",
          "data": {
            "text/plain": [
              "tensor([[ 0.6679],\n",
              "        [ 0.8936],\n",
              "        [ 0.1619],\n",
              "        [ 0.3658],\n",
              "        [ 0.4864],\n",
              "        [ 0.0280],\n",
              "        [-0.4142],\n",
              "        [ 0.5107],\n",
              "        [ 0.2790],\n",
              "        [ 0.6179]])"
            ]
          },
          "metadata": {
            "tags": []
          },
          "execution_count": 147
        }
      ]
    },
    {
      "cell_type": "markdown",
      "metadata": {
        "id": "IHPu1-kgmfE_",
        "colab_type": "text"
      },
      "source": [
        "**示例2：以下为两层RNN示例**\n",
        "\n",
        "输入序列长度为1，隐含层层数为2"
      ]
    },
    {
      "cell_type": "code",
      "metadata": {
        "id": "UPhWR3oLmmtz",
        "colab_type": "code",
        "colab": {
          "base_uri": "https://localhost:8080/",
          "height": 143
        },
        "outputId": "64093604-4a09-4dcd-b929-c8cae4e22327"
      },
      "source": [
        "#[input_size, hidden_size, num_layers]\n",
        "rnn = nn.RNN(10, 10, 2)\n",
        "\n",
        "#[size,batch,dim]\n",
        "inputR = torch.randn(1, 1, 10)\n",
        "\n",
        "#[size,batch,dim]\n",
        "h0 = torch.randn(2, 1, 10)\n",
        "\n",
        "output, hn = rnn(inputR, h0)\n",
        "\n",
        "print(\"output\",output)\n",
        "print(\"hn\",hn)"
      ],
      "execution_count": 148,
      "outputs": [
        {
          "output_type": "stream",
          "text": [
            "output tensor([[[-0.0395, -0.5792, -0.3492,  0.3639,  0.7415, -0.3165, -0.7299,\n",
            "           0.9545, -0.3164, -0.6656]]], grad_fn=<StackBackward>)\n",
            "hn tensor([[[-0.8576,  0.0320,  0.8981,  0.8532, -0.8725, -0.8605,  0.9906,\n",
            "          -0.9157, -0.7639, -0.8300]],\n",
            "\n",
            "        [[-0.0395, -0.5792, -0.3492,  0.3639,  0.7415, -0.3165, -0.7299,\n",
            "           0.9545, -0.3164, -0.6656]]], grad_fn=<StackBackward>)\n"
          ],
          "name": "stdout"
        }
      ]
    },
    {
      "cell_type": "markdown",
      "metadata": {
        "id": "AD2OQ3aMm2al",
        "colab_type": "text"
      },
      "source": [
        "第一层输出"
      ]
    },
    {
      "cell_type": "code",
      "metadata": {
        "id": "sJ7-1kK_m1ej",
        "colab_type": "code",
        "colab": {
          "base_uri": "https://localhost:8080/",
          "height": 197
        },
        "outputId": "e9ae815a-46c1-4707-fc07-213177c102b3"
      },
      "source": [
        "ih =  rnn.weight_ih_l0.data.mm(inputR[0].squeeze().view(10,1)) + rnn.bias_ih_l0.data.view(10,1)\n",
        "\n",
        "hh = rnn.weight_hh_l0.data.mm(h0[0].squeeze().view(10, 1)) + rnn.bias_hh_l0.data.view(10,1)\n",
        "\n",
        "temp = torch.tanh(ih+hh)\n",
        "temp"
      ],
      "execution_count": 149,
      "outputs": [
        {
          "output_type": "execute_result",
          "data": {
            "text/plain": [
              "tensor([[-0.8576],\n",
              "        [ 0.0320],\n",
              "        [ 0.8981],\n",
              "        [ 0.8532],\n",
              "        [-0.8725],\n",
              "        [-0.8605],\n",
              "        [ 0.9906],\n",
              "        [-0.9157],\n",
              "        [-0.7639],\n",
              "        [-0.8300]])"
            ]
          },
          "metadata": {
            "tags": []
          },
          "execution_count": 149
        }
      ]
    },
    {
      "cell_type": "markdown",
      "metadata": {
        "id": "tJoKoNIVoAKE",
        "colab_type": "text"
      },
      "source": [
        "第二层输出"
      ]
    },
    {
      "cell_type": "code",
      "metadata": {
        "id": "0pc9T8icnNNw",
        "colab_type": "code",
        "colab": {
          "base_uri": "https://localhost:8080/",
          "height": 197
        },
        "outputId": "c492e802-62db-4bfb-9764-dd443d8484df"
      },
      "source": [
        "ih1 =  rnn.weight_ih_l1.data.mm(temp.data) + rnn.bias_ih_l1.data.view(10,1)\n",
        "\n",
        "hh1 = rnn.weight_hh_l1.data.mm(h0[1].squeeze().view(10, 1)) + rnn.bias_hh_l1.data.view(10,1)\n",
        "\n",
        "torch.tanh(ih1+hh1)"
      ],
      "execution_count": 150,
      "outputs": [
        {
          "output_type": "execute_result",
          "data": {
            "text/plain": [
              "tensor([[-0.0395],\n",
              "        [-0.5792],\n",
              "        [-0.3492],\n",
              "        [ 0.3639],\n",
              "        [ 0.7415],\n",
              "        [-0.3165],\n",
              "        [-0.7299],\n",
              "        [ 0.9545],\n",
              "        [-0.3164],\n",
              "        [-0.6656]])"
            ]
          },
          "metadata": {
            "tags": []
          },
          "execution_count": 150
        }
      ]
    },
    {
      "cell_type": "markdown",
      "metadata": {
        "id": "ZQVlz9VAoTpH",
        "colab_type": "text"
      },
      "source": [
        "**示例3：以下两层RNN、两输入序列示例**"
      ]
    },
    {
      "cell_type": "code",
      "metadata": {
        "id": "3fnU7usGofB0",
        "colab_type": "code",
        "colab": {
          "base_uri": "https://localhost:8080/",
          "height": 341
        },
        "outputId": "6536ede4-bd8f-42c3-ce73-acede9cf2881"
      },
      "source": [
        "#[input_size, hidden_size, num_layers]\n",
        "rnn = nn.RNN(10, 10, 2)\n",
        "\n",
        "#[seq_size],batch,dim]\n",
        "inputR = torch.randn(2, 1, 10)\n",
        "\n",
        "#[size,batch,dim]\n",
        "h0 = torch.randn(2, 1, 10)\n",
        "\n",
        "output, hn = rnn(inputR, h0)\n",
        "\n",
        "print(\"output: \",output)\n",
        "print(\"hn: \",hn)\n",
        "\n",
        "#打印参数\n",
        "for para  in list(rnn.named_parameters()):\n",
        "   print(para[0],para[1].shape)"
      ],
      "execution_count": 151,
      "outputs": [
        {
          "output_type": "stream",
          "text": [
            "output:  tensor([[[-0.6838,  0.2464, -0.7856,  0.4537,  0.6427, -0.0860, -0.6057,\n",
            "          -0.4309, -0.0186,  0.4150]],\n",
            "\n",
            "        [[ 0.1511,  0.5262, -0.3758, -0.1213, -0.3944,  0.5646, -0.5836,\n",
            "           0.2102,  0.2781,  0.1190]]], grad_fn=<StackBackward>)\n",
            "hn:  tensor([[[ 0.9116, -0.5951,  0.3207,  0.2453, -0.1374, -0.5649, -0.9165,\n",
            "           0.2232,  0.3134, -0.7457]],\n",
            "\n",
            "        [[ 0.1511,  0.5262, -0.3758, -0.1213, -0.3944,  0.5646, -0.5836,\n",
            "           0.2102,  0.2781,  0.1190]]], grad_fn=<StackBackward>)\n",
            "weight_ih_l0 torch.Size([10, 10])\n",
            "weight_hh_l0 torch.Size([10, 10])\n",
            "bias_ih_l0 torch.Size([10])\n",
            "bias_hh_l0 torch.Size([10])\n",
            "weight_ih_l1 torch.Size([10, 10])\n",
            "weight_hh_l1 torch.Size([10, 10])\n",
            "bias_ih_l1 torch.Size([10])\n",
            "bias_hh_l1 torch.Size([10])\n"
          ],
          "name": "stdout"
        }
      ]
    },
    {
      "cell_type": "markdown",
      "metadata": {
        "id": "GjmdsDz9se3S",
        "colab_type": "text"
      },
      "source": [
        "input[0] 第一层输出"
      ]
    },
    {
      "cell_type": "code",
      "metadata": {
        "id": "DEDb5nygsNO4",
        "colab_type": "code",
        "colab": {
          "base_uri": "https://localhost:8080/",
          "height": 197
        },
        "outputId": "9596daf1-2b77-4dc7-b332-886a286a214f"
      },
      "source": [
        "ih =  rnn.weight_ih_l0.data.mm(inputR[0].squeeze().view(10,1)) + rnn.bias_ih_l0.data.view(10,1)\n",
        "\n",
        "hh = rnn.weight_hh_l0.data.mm(h0[0].squeeze().view(10, 1)) + rnn.bias_hh_l0.data.view(10,1)\n",
        "\n",
        "#layer index 0,input index 0\n",
        "out_l0_i0 = torch.tanh(ih+hh)\n",
        "out_l0_i0"
      ],
      "execution_count": 152,
      "outputs": [
        {
          "output_type": "execute_result",
          "data": {
            "text/plain": [
              "tensor([[-0.6747],\n",
              "        [ 0.5186],\n",
              "        [ 0.2617],\n",
              "        [-0.8594],\n",
              "        [ 0.4271],\n",
              "        [ 0.2121],\n",
              "        [-0.3433],\n",
              "        [ 0.2791],\n",
              "        [ 0.6455],\n",
              "        [ 0.3215]])"
            ]
          },
          "metadata": {
            "tags": []
          },
          "execution_count": 152
        }
      ]
    },
    {
      "cell_type": "markdown",
      "metadata": {
        "id": "s4tJuPmesj5E",
        "colab_type": "text"
      },
      "source": [
        "input[0] 第二层输出"
      ]
    },
    {
      "cell_type": "code",
      "metadata": {
        "id": "J1XRC0YWsQHh",
        "colab_type": "code",
        "colab": {
          "base_uri": "https://localhost:8080/",
          "height": 233
        },
        "outputId": "4a590e9b-4057-4fd0-a9d9-89c0819ba44e"
      },
      "source": [
        "ih1 =  rnn.weight_ih_l1.data.mm(out_l0_i0.data) + rnn.bias_ih_l1.data.view(10,1)\n",
        "\n",
        "hh1 = rnn.weight_hh_l1.data.mm(h0[1].squeeze().view(10, 1)) + rnn.bias_hh_l1.data.view(10,1)\n",
        "\n",
        "#layer index 1,input index 0\n",
        "out_l1_i0 = torch.tanh(ih1+hh1)\n",
        "print(\"out_l1_i0\",out_l1_i0)\n",
        "print(\"output[0]\",output[0])"
      ],
      "execution_count": 153,
      "outputs": [
        {
          "output_type": "stream",
          "text": [
            "out_l1_i0 tensor([[-0.6838],\n",
            "        [ 0.2464],\n",
            "        [-0.7856],\n",
            "        [ 0.4537],\n",
            "        [ 0.6427],\n",
            "        [-0.0860],\n",
            "        [-0.6057],\n",
            "        [-0.4309],\n",
            "        [-0.0186],\n",
            "        [ 0.4150]])\n",
            "output[0] tensor([[-0.6838,  0.2464, -0.7856,  0.4537,  0.6427, -0.0860, -0.6057, -0.4309,\n",
            "         -0.0186,  0.4150]], grad_fn=<SelectBackward>)\n"
          ],
          "name": "stdout"
        }
      ]
    },
    {
      "cell_type": "markdown",
      "metadata": {
        "id": "aTk8qlypstaS",
        "colab_type": "text"
      },
      "source": [
        "input[1] 第一层输出\n",
        "\n",
        "\n",
        "\n",
        "\n"
      ]
    },
    {
      "cell_type": "code",
      "metadata": {
        "id": "EXl4bkjgs4XI",
        "colab_type": "code",
        "colab": {
          "base_uri": "https://localhost:8080/",
          "height": 233
        },
        "outputId": "e66fca94-4852-4e69-9c8c-88e00e7f4da9"
      },
      "source": [
        "ih =  rnn.weight_ih_l0.data.mm(inputR[1].squeeze().view(10,1)) + rnn.bias_ih_l0.data.view(10,1)\n",
        "\n",
        "hh = rnn.weight_hh_l0.data.mm(out_l0_i0) + rnn.bias_hh_l0.data.view(10,1)\n",
        "\n",
        "#layer index 0,input index 1\n",
        "out_l0_i1 = torch.tanh(ih+hh)\n",
        "print(\"out_l0_i1\",out_l0_i1)\n",
        "print(\"hn[0]\",hn[0])\n"
      ],
      "execution_count": 154,
      "outputs": [
        {
          "output_type": "stream",
          "text": [
            "out_l0_i1 tensor([[ 0.9116],\n",
            "        [-0.5951],\n",
            "        [ 0.3207],\n",
            "        [ 0.2453],\n",
            "        [-0.1374],\n",
            "        [-0.5649],\n",
            "        [-0.9165],\n",
            "        [ 0.2232],\n",
            "        [ 0.3134],\n",
            "        [-0.7457]])\n",
            "hn[0] tensor([[ 0.9116, -0.5951,  0.3207,  0.2453, -0.1374, -0.5649, -0.9165,  0.2232,\n",
            "          0.3134, -0.7457]], grad_fn=<SelectBackward>)\n"
          ],
          "name": "stdout"
        }
      ]
    },
    {
      "cell_type": "markdown",
      "metadata": {
        "id": "8nCA9F0Lt6c2",
        "colab_type": "text"
      },
      "source": [
        "input[1] 第二层输出"
      ]
    },
    {
      "cell_type": "code",
      "metadata": {
        "id": "EGw5eH5TuAAe",
        "colab_type": "code",
        "colab": {
          "base_uri": "https://localhost:8080/",
          "height": 269
        },
        "outputId": "58f76839-0312-4707-fe4e-06177d0b6a4d"
      },
      "source": [
        "ih1 =  rnn.weight_ih_l1.data.mm(out_l0_i1.data) + rnn.bias_ih_l1.data.view(10,1)\n",
        "\n",
        "hh1 = rnn.weight_hh_l1.data.mm(out_l1_i0) +  rnn.bias_hh_l1.data.view(10,1)\n",
        "\n",
        "#layer index 1,input index 1\n",
        "out_l1_i1 = torch.tanh(ih1+hh1)\n",
        "print(\"out_l1_i1\",out_l1_i1)\n",
        "print(\"hn[1]\",hn[1])\n",
        "print(\"output[1]\",output[1])"
      ],
      "execution_count": 155,
      "outputs": [
        {
          "output_type": "stream",
          "text": [
            "out_l1_i1 tensor([[ 0.1511],\n",
            "        [ 0.5262],\n",
            "        [-0.3758],\n",
            "        [-0.1213],\n",
            "        [-0.3944],\n",
            "        [ 0.5646],\n",
            "        [-0.5836],\n",
            "        [ 0.2102],\n",
            "        [ 0.2781],\n",
            "        [ 0.1190]])\n",
            "hn[1] tensor([[ 0.1511,  0.5262, -0.3758, -0.1213, -0.3944,  0.5646, -0.5836,  0.2102,\n",
            "          0.2781,  0.1190]], grad_fn=<SelectBackward>)\n",
            "output[1] tensor([[ 0.1511,  0.5262, -0.3758, -0.1213, -0.3944,  0.5646, -0.5836,  0.2102,\n",
            "          0.2781,  0.1190]], grad_fn=<SelectBackward>)\n"
          ],
          "name": "stdout"
        }
      ]
    }
  ]
}